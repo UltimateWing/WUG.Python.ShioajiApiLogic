{
  "nbformat": 4,
  "nbformat_minor": 0,
  "metadata": {
    "kernelspec": {
      "display_name": "Python 3",
      "language": "python",
      "name": "python3"
    },
    "language_info": {
      "codemirror_mode": {
        "name": "ipython",
        "version": 3
      },
      "file_extension": ".py",
      "mimetype": "text/x-python",
      "name": "python",
      "nbconvert_exporter": "python",
      "pygments_lexer": "ipython3",
      "version": "3.8.5"
    },
    "colab": {
      "name": "ShioajiApiFunc.ipynb",
      "provenance": [],
      "include_colab_link": true
    }
  },
  "cells": [
    {
      "cell_type": "markdown",
      "metadata": {
        "id": "view-in-github",
        "colab_type": "text"
      },
      "source": [
        "<a href=\"https://colab.research.google.com/github/UltimateWing/WUG.Python.ShioajiApiLogic/blob/main/ShioajiApiFunc.ipynb\" target=\"_parent\"><img src=\"https://colab.research.google.com/assets/colab-badge.svg\" alt=\"Open In Colab\"/></a>"
      ]
    },
    {
      "cell_type": "code",
      "metadata": {
        "id": "9y4yK_Y2Cauk"
      },
      "source": [
        "pip install shioaji"
      ],
      "execution_count": null,
      "outputs": []
    },
    {
      "cell_type": "code",
      "metadata": {
        "id": "7FpLPWEnA4S5"
      },
      "source": [
        "import shioaji as sj"
      ],
      "execution_count": 2,
      "outputs": []
    },
    {
      "cell_type": "code",
      "metadata": {
        "id": "VjWu5JQ_CsF1"
      },
      "source": [
        "class ShiojiApiLogic():\n",
        "  #建構式\n",
        "  def __init__(self, isSimulation: bool = True):\n",
        "    self.IsSimulation = isSimulation\n",
        "    if isSimulation:\n",
        "      self.Api = sj.Shioaji(simulation = True)\n",
        "    else:\n",
        "      self.Api = sj.Shioaji()\n",
        "      self.LoginId = \"\"\n",
        "      self.IsConnected = False\n",
        "      self.AccountList = []\n",
        "      self.ReplyDict = {}\n",
        "    \n",
        "  #模擬環境初始化\n",
        "  def InitSimulation(self, virtualIdNum: int = 1):\n",
        "    virtualId = \"PAPIUSER0\" + str(virtualIdNum)\n",
        "    pwd = \"2222\"\n",
        "    self.Init(virtualId, pwd)\n",
        "\n",
        "  #正式環境初始化\n",
        "  def Init(self, loginId: str, loginPwd: str, caPath: str = \"\", caPwd: str = \"\"):\n",
        "    self.Api.login(\n",
        "        person_id = loginId,\n",
        "        passwd = loginPwd,\n",
        "        contracts_cb = lambda security_type: print(f\"{repr(security_type)} fetch done.\")\n",
        "        )\n",
        "    self.AccountList = self.Api.list_accounts()\n",
        "    #註冊回報事件\n",
        "    self.Api.set_order_callback(self.__placeCallback)\n",
        "    if self.IsSimulation == False:\n",
        "      result = self.Api.activate_ca(\n",
        "          ca_path = caPath,\n",
        "          ca_passwd = caPwd,\n",
        "          person_id = loginId\n",
        "          )\n",
        "      \n",
        "  #委託下單\n",
        "  def SendOrder(\n",
        "      self, symbolId: str, orderPrice: float, orderQty: int, \n",
        "      bsType: str, priceType: str, timeInForce: str,\n",
        "      sessionType: str, isFirstSell: bool, accountType: str):\n",
        "    contract = self.__getContract(symbolId, accountType)    \n",
        "    #使用預設帳號下單\n",
        "    order = self.Api.Order(\n",
        "        price = orderPrice,\n",
        "        quantity = orderQty,\n",
        "        action = self.__getAction(bsType),\n",
        "        price_type = self.__getPriceType(priceType),\n",
        "        order_type = self.__getTimeInForce(timeInForce),                      \n",
        "        order_lot = self.__getSessionType(sessionType),\n",
        "        first_sell = isFirstSell,\n",
        "        account = self.__getAccountInfo(accountType)\n",
        "        )\n",
        "    trade = self.Api.place_order(contract, order, timeout = 0)\n",
        "    return trade\n",
        "    \n",
        "  #def CancelOrder(self, orderNo: str)\n",
        "    \n",
        "    \n",
        "  #登出\n",
        "  def Logout(self):\n",
        "    self.Api.logout()\n",
        "    \n",
        "    \n",
        "  #Private Method\n",
        "    \n",
        "  #取得買賣類型\n",
        "  def __getAction(self, bsType: str):\n",
        "    if bsType == \"Buy\":\n",
        "      return sj.constant.Action.Buy\n",
        "    elif bsType == \"Sell\":\n",
        "      return sj.constant.Action.Sell\n",
        "    else:\n",
        "      raise Exception(\n",
        "          \"Not correct Action: \" + bsType + \n",
        "          \", only can input {Buy: 買, Sell: 賣}\"\n",
        "          )\n",
        "            \n",
        "  #取得價格類型\n",
        "  def __getPriceType(self, priceType: str):\n",
        "    if priceType == \"Limit\": #限價\n",
        "      return sj.constant.StockPriceType.LMT\n",
        "    elif priceType == \"Market\": #市價\n",
        "      return sj.constant.StockPriceType.MKT\n",
        "    elif priceType == \"RangeMarket\": #範圍市價\n",
        "      return sj.constant.StockPriceType.MKP\n",
        "    else:\n",
        "      raise Exception(\n",
        "          \"Not correct StockPriceType: \" + priceType + \n",
        "          \", only can input {Limit: 限價, Market: 市價, RangeMarket: 範圍市價}\")\n",
        "\n",
        "  #取得委託單時效性\n",
        "  def __getTimeInForce(self, timeInForce: str):\n",
        "    if timeInForce == \"ROD\":\n",
        "      return sj.constant.TFTOrderType.ROD\n",
        "    elif timeInForce == \"IOC\":\n",
        "      return sj.constant.TFTOrderType.IOC\n",
        "    elif timeInForce == \"FOK\":\n",
        "      return sj.constant.TFTOrderType.FOK\n",
        "    else:\n",
        "      raise Exception(\n",
        "          \"Not correct TimeInForce: \" + timeInForce +\n",
        "          \", only can input {ROD, IOC, FOK}\")\n",
        "            \n",
        "  #取得委託單盤別\n",
        "  def __getSessionType(self, sessionType: str):\n",
        "    if sessionType == \"RegularTrading\":\n",
        "      return sj.constant.TFTStockOrderLot.Common\n",
        "    elif sessionType == \"AfterHoursTrading\":\n",
        "      return sj.constant.TFTStockOrderLot.Fixing\n",
        "    elif sessionType == \"OddLot\":\n",
        "      return sj.constant.TFTStockOrderLot.Odd\n",
        "    elif sessionType == \"OddLotAtSession\":\n",
        "      return sj.constant.TFTStockOrderLot.IntradayOdd\n",
        "    else:\n",
        "      raise Exception(\n",
        "          \"Not correct SessionType: \" + sessionType +\n",
        "          \", only can input {RegularTrading: 整股, \" +\n",
        "                     \"AfterHoursTrading: 定盤, \" +\n",
        "                     \"OddLot: 盤後零股, \" + \n",
        "                     \"OddLotAtSession: 盤中零股}\"\n",
        "          )\n",
        "\n",
        "  #取得帳號資訊  \n",
        "  def __getAccountInfo(accountType):\n",
        "    if accountType == \"Stk\":\n",
        "      return self.Api.stock_account\n",
        "    elif accountType == \"Fut\":\n",
        "      return self.Api.futopt_account\n",
        "    else:\n",
        "      raise Exception(\n",
        "          \"Not correct AccountType: \" + accountType +\n",
        "          \", only can input {Stk: 現貨帳戶資訊, Fut: 期貨帳戶資訊}\"\n",
        "      )\n",
        "\n",
        "  #依帳戶類別取得商品合約，帳戶有股票和期貨，\n",
        "  #以此為依據去取得Shioaji資料庫中Contracts.Stocks或Contracts.Futures的合約資料結構\n",
        "  def __getContract(self, symbolId: str, accountType: str):\n",
        "    if accountType == \"Stk\":\n",
        "      return self.Api.Contracts.Stocks[symbolId]\n",
        "    elif accountType == \"Fut\":\n",
        "      return self.Api.Contracts.Futures[symbolId]\n",
        "    else:\n",
        "      raise Exception(\n",
        "          \"Not correct AccountType:\" + accountType + \n",
        "          \", and then cause cannot catch contract. \" +\n",
        "          \"Only can input {Stk: 現貨帳戶資訊, Fut: 期貨帳戶資訊}\")\n",
        "    \n",
        "  #Event\n",
        "    \n",
        "  #接收委託回報\n",
        "  def __placeCallback(self, msg):\n",
        "    print('my_place_callback')\n",
        "    print(msg)        \n",
        "    #if msg['order']['id']"
      ],
      "execution_count": null,
      "outputs": []
    },
    {
      "cell_type": "code",
      "metadata": {
        "id": "jL4fxKAMA4S9",
        "outputId": "b7bb9ce5-eb86-4620-af1d-f0e887021557"
      },
      "source": [
        "api = sj.Shioaji(simulation=True)\n",
        "api.login(person_id=\"PAPIUSER01\",\n",
        "          passwd=\"2222\",\n",
        "          contracts_cb=lambda security_type: print(f\"{repr(security_type)} fetch done.\")\n",
        "          )"
      ],
      "execution_count": null,
      "outputs": [
        {
          "ename": "JSONDecodeError",
          "evalue": "Expecting value: line 1 column 1 (char 0)",
          "output_type": "error",
          "traceback": [
            "\u001b[1;31m---------------------------------------------------------------------------\u001b[0m",
            "\u001b[1;31mJSONDecodeError\u001b[0m                           Traceback (most recent call last)",
            "\u001b[1;32m<ipython-input-25-49530d729c96>\u001b[0m in \u001b[0;36m<module>\u001b[1;34m\u001b[0m\n\u001b[1;32m----> 1\u001b[1;33m \u001b[0mapi\u001b[0m \u001b[1;33m=\u001b[0m \u001b[0msj\u001b[0m\u001b[1;33m.\u001b[0m\u001b[0mShioaji\u001b[0m\u001b[1;33m(\u001b[0m\u001b[0msimulation\u001b[0m\u001b[1;33m=\u001b[0m\u001b[1;32mTrue\u001b[0m\u001b[1;33m)\u001b[0m\u001b[1;33m\u001b[0m\u001b[1;33m\u001b[0m\u001b[0m\n\u001b[0m\u001b[0;32m      2\u001b[0m api.login(person_id=\"PAPIUSER01\",\n\u001b[0;32m      3\u001b[0m           \u001b[0mpasswd\u001b[0m\u001b[1;33m=\u001b[0m\u001b[1;34m\"2222\"\u001b[0m\u001b[1;33m,\u001b[0m\u001b[1;33m\u001b[0m\u001b[1;33m\u001b[0m\u001b[0m\n\u001b[0;32m      4\u001b[0m           \u001b[0mcontracts_cb\u001b[0m\u001b[1;33m=\u001b[0m\u001b[1;32mlambda\u001b[0m \u001b[0msecurity_type\u001b[0m\u001b[1;33m:\u001b[0m \u001b[0mprint\u001b[0m\u001b[1;33m(\u001b[0m\u001b[1;34mf\"{repr(security_type)} fetch done.\"\u001b[0m\u001b[1;33m)\u001b[0m\u001b[1;33m\u001b[0m\u001b[1;33m\u001b[0m\u001b[0m\n\u001b[0;32m      5\u001b[0m           )\n",
            "\u001b[1;32mC:\\ProgramData\\Anaconda3\\lib\\site-packages\\shioaji\\shioaji.py\u001b[0m in \u001b[0;36m__init__\u001b[1;34m(self, backend, simulation, proxies, currency)\u001b[0m\n\u001b[0;32m     80\u001b[0m                 \u001b[0mset\u001b[0m \u001b[0mthe\u001b[0m \u001b[0mdefault\u001b[0m \u001b[0mcurrency\u001b[0m \u001b[1;32mfor\u001b[0m \u001b[0mdisplay\u001b[0m\u001b[1;33m\u001b[0m\u001b[1;33m\u001b[0m\u001b[0m\n\u001b[0;32m     81\u001b[0m         \"\"\"\n\u001b[1;32m---> 82\u001b[1;33m         \u001b[0mself\u001b[0m\u001b[1;33m.\u001b[0m\u001b[0m_http\u001b[0m \u001b[1;33m=\u001b[0m \u001b[0m_http\u001b[0m\u001b[1;33m(\u001b[0m\u001b[1;32mFalse\u001b[0m\u001b[1;33m,\u001b[0m \u001b[0mproxies\u001b[0m\u001b[1;33m)\u001b[0m\u001b[1;33m\u001b[0m\u001b[1;33m\u001b[0m\u001b[0m\n\u001b[0m\u001b[0;32m     83\u001b[0m         \u001b[0mread_config\u001b[0m\u001b[1;33m(\u001b[0m\u001b[0msimulation\u001b[0m\u001b[1;33m)\u001b[0m\u001b[1;33m\u001b[0m\u001b[1;33m\u001b[0m\u001b[0m\n\u001b[0;32m     84\u001b[0m         \u001b[0mreload\u001b[0m\u001b[1;33m(\u001b[0m\u001b[0mconfig\u001b[0m\u001b[1;33m)\u001b[0m\u001b[1;33m\u001b[0m\u001b[1;33m\u001b[0m\u001b[0m\n",
            "\u001b[1;32mshioaji\\backend\\http\\main.pyx\u001b[0m in \u001b[0;36mshioaji.backend.http.main.HttpApi.__init__\u001b[1;34m()\u001b[0m\n",
            "\u001b[1;32mshioaji\\backend\\http\\client.pyx\u001b[0m in \u001b[0;36mshioaji.backend.http.client.Client.__init__\u001b[1;34m()\u001b[0m\n",
            "\u001b[1;32mshioaji\\backend\\http\\client.pyx\u001b[0m in \u001b[0;36mshioaji.backend.http.client.Client.get_public_ip\u001b[1;34m()\u001b[0m\n",
            "\u001b[1;32mC:\\ProgramData\\Anaconda3\\lib\\site-packages\\requests\\models.py\u001b[0m in \u001b[0;36mjson\u001b[1;34m(self, **kwargs)\u001b[0m\n\u001b[0;32m    895\u001b[0m                     \u001b[1;31m# used.\u001b[0m\u001b[1;33m\u001b[0m\u001b[1;33m\u001b[0m\u001b[1;33m\u001b[0m\u001b[0m\n\u001b[0;32m    896\u001b[0m                     \u001b[1;32mpass\u001b[0m\u001b[1;33m\u001b[0m\u001b[1;33m\u001b[0m\u001b[0m\n\u001b[1;32m--> 897\u001b[1;33m         \u001b[1;32mreturn\u001b[0m \u001b[0mcomplexjson\u001b[0m\u001b[1;33m.\u001b[0m\u001b[0mloads\u001b[0m\u001b[1;33m(\u001b[0m\u001b[0mself\u001b[0m\u001b[1;33m.\u001b[0m\u001b[0mtext\u001b[0m\u001b[1;33m,\u001b[0m \u001b[1;33m**\u001b[0m\u001b[0mkwargs\u001b[0m\u001b[1;33m)\u001b[0m\u001b[1;33m\u001b[0m\u001b[1;33m\u001b[0m\u001b[0m\n\u001b[0m\u001b[0;32m    898\u001b[0m \u001b[1;33m\u001b[0m\u001b[0m\n\u001b[0;32m    899\u001b[0m     \u001b[1;33m@\u001b[0m\u001b[0mproperty\u001b[0m\u001b[1;33m\u001b[0m\u001b[1;33m\u001b[0m\u001b[0m\n",
            "\u001b[1;32mC:\\ProgramData\\Anaconda3\\lib\\json\\__init__.py\u001b[0m in \u001b[0;36mloads\u001b[1;34m(s, cls, object_hook, parse_float, parse_int, parse_constant, object_pairs_hook, **kw)\u001b[0m\n\u001b[0;32m    355\u001b[0m             \u001b[0mparse_int\u001b[0m \u001b[1;32mis\u001b[0m \u001b[1;32mNone\u001b[0m \u001b[1;32mand\u001b[0m \u001b[0mparse_float\u001b[0m \u001b[1;32mis\u001b[0m \u001b[1;32mNone\u001b[0m \u001b[1;32mand\u001b[0m\u001b[1;33m\u001b[0m\u001b[1;33m\u001b[0m\u001b[0m\n\u001b[0;32m    356\u001b[0m             parse_constant is None and object_pairs_hook is None and not kw):\n\u001b[1;32m--> 357\u001b[1;33m         \u001b[1;32mreturn\u001b[0m \u001b[0m_default_decoder\u001b[0m\u001b[1;33m.\u001b[0m\u001b[0mdecode\u001b[0m\u001b[1;33m(\u001b[0m\u001b[0ms\u001b[0m\u001b[1;33m)\u001b[0m\u001b[1;33m\u001b[0m\u001b[1;33m\u001b[0m\u001b[0m\n\u001b[0m\u001b[0;32m    358\u001b[0m     \u001b[1;32mif\u001b[0m \u001b[0mcls\u001b[0m \u001b[1;32mis\u001b[0m \u001b[1;32mNone\u001b[0m\u001b[1;33m:\u001b[0m\u001b[1;33m\u001b[0m\u001b[1;33m\u001b[0m\u001b[0m\n\u001b[0;32m    359\u001b[0m         \u001b[0mcls\u001b[0m \u001b[1;33m=\u001b[0m \u001b[0mJSONDecoder\u001b[0m\u001b[1;33m\u001b[0m\u001b[1;33m\u001b[0m\u001b[0m\n",
            "\u001b[1;32mC:\\ProgramData\\Anaconda3\\lib\\json\\decoder.py\u001b[0m in \u001b[0;36mdecode\u001b[1;34m(self, s, _w)\u001b[0m\n\u001b[0;32m    335\u001b[0m \u001b[1;33m\u001b[0m\u001b[0m\n\u001b[0;32m    336\u001b[0m         \"\"\"\n\u001b[1;32m--> 337\u001b[1;33m         \u001b[0mobj\u001b[0m\u001b[1;33m,\u001b[0m \u001b[0mend\u001b[0m \u001b[1;33m=\u001b[0m \u001b[0mself\u001b[0m\u001b[1;33m.\u001b[0m\u001b[0mraw_decode\u001b[0m\u001b[1;33m(\u001b[0m\u001b[0ms\u001b[0m\u001b[1;33m,\u001b[0m \u001b[0midx\u001b[0m\u001b[1;33m=\u001b[0m\u001b[0m_w\u001b[0m\u001b[1;33m(\u001b[0m\u001b[0ms\u001b[0m\u001b[1;33m,\u001b[0m \u001b[1;36m0\u001b[0m\u001b[1;33m)\u001b[0m\u001b[1;33m.\u001b[0m\u001b[0mend\u001b[0m\u001b[1;33m(\u001b[0m\u001b[1;33m)\u001b[0m\u001b[1;33m)\u001b[0m\u001b[1;33m\u001b[0m\u001b[1;33m\u001b[0m\u001b[0m\n\u001b[0m\u001b[0;32m    338\u001b[0m         \u001b[0mend\u001b[0m \u001b[1;33m=\u001b[0m \u001b[0m_w\u001b[0m\u001b[1;33m(\u001b[0m\u001b[0ms\u001b[0m\u001b[1;33m,\u001b[0m \u001b[0mend\u001b[0m\u001b[1;33m)\u001b[0m\u001b[1;33m.\u001b[0m\u001b[0mend\u001b[0m\u001b[1;33m(\u001b[0m\u001b[1;33m)\u001b[0m\u001b[1;33m\u001b[0m\u001b[1;33m\u001b[0m\u001b[0m\n\u001b[0;32m    339\u001b[0m         \u001b[1;32mif\u001b[0m \u001b[0mend\u001b[0m \u001b[1;33m!=\u001b[0m \u001b[0mlen\u001b[0m\u001b[1;33m(\u001b[0m\u001b[0ms\u001b[0m\u001b[1;33m)\u001b[0m\u001b[1;33m:\u001b[0m\u001b[1;33m\u001b[0m\u001b[1;33m\u001b[0m\u001b[0m\n",
            "\u001b[1;32mC:\\ProgramData\\Anaconda3\\lib\\json\\decoder.py\u001b[0m in \u001b[0;36mraw_decode\u001b[1;34m(self, s, idx)\u001b[0m\n\u001b[0;32m    353\u001b[0m             \u001b[0mobj\u001b[0m\u001b[1;33m,\u001b[0m \u001b[0mend\u001b[0m \u001b[1;33m=\u001b[0m \u001b[0mself\u001b[0m\u001b[1;33m.\u001b[0m\u001b[0mscan_once\u001b[0m\u001b[1;33m(\u001b[0m\u001b[0ms\u001b[0m\u001b[1;33m,\u001b[0m \u001b[0midx\u001b[0m\u001b[1;33m)\u001b[0m\u001b[1;33m\u001b[0m\u001b[1;33m\u001b[0m\u001b[0m\n\u001b[0;32m    354\u001b[0m         \u001b[1;32mexcept\u001b[0m \u001b[0mStopIteration\u001b[0m \u001b[1;32mas\u001b[0m \u001b[0merr\u001b[0m\u001b[1;33m:\u001b[0m\u001b[1;33m\u001b[0m\u001b[1;33m\u001b[0m\u001b[0m\n\u001b[1;32m--> 355\u001b[1;33m             \u001b[1;32mraise\u001b[0m \u001b[0mJSONDecodeError\u001b[0m\u001b[1;33m(\u001b[0m\u001b[1;34m\"Expecting value\"\u001b[0m\u001b[1;33m,\u001b[0m \u001b[0ms\u001b[0m\u001b[1;33m,\u001b[0m \u001b[0merr\u001b[0m\u001b[1;33m.\u001b[0m\u001b[0mvalue\u001b[0m\u001b[1;33m)\u001b[0m \u001b[1;32mfrom\u001b[0m \u001b[1;32mNone\u001b[0m\u001b[1;33m\u001b[0m\u001b[1;33m\u001b[0m\u001b[0m\n\u001b[0m\u001b[0;32m    356\u001b[0m         \u001b[1;32mreturn\u001b[0m \u001b[0mobj\u001b[0m\u001b[1;33m,\u001b[0m \u001b[0mend\u001b[0m\u001b[1;33m\u001b[0m\u001b[1;33m\u001b[0m\u001b[0m\n",
            "\u001b[1;31mJSONDecodeError\u001b[0m: Expecting value: line 1 column 1 (char 0)"
          ]
        }
      ]
    },
    {
      "cell_type": "code",
      "metadata": {
        "id": "GxIrsqkQA4S-"
      },
      "source": [
        "def InitSimulation(userId : int = 1):\n",
        "    name = \"PAPIUSER0\" + str(userId)\n",
        "    pwd = \"2222\"\n",
        "    api = sj.Shioaji(simulation=True)    \n",
        "    api.login(person_id=\"PAPIUSER01\",\n",
        "          passwd=\"2222\",\n",
        "          contracts_cb=lambda security_type: print(f\"{repr(security_type)} fetch done.\")\n",
        "          )"
      ],
      "execution_count": null,
      "outputs": []
    },
    {
      "cell_type": "code",
      "metadata": {
        "id": "PEcv0mnoA4S_"
      },
      "source": [
        "#取得帳號清單\n",
        "accounts = api.list_accounts()"
      ],
      "execution_count": null,
      "outputs": []
    },
    {
      "cell_type": "code",
      "metadata": {
        "id": "UL5IE1RnA4TA"
      },
      "source": [
        "#取得預設帳戶\n",
        "stkAcc = api.stock_account\n",
        "futAcc = api.futopt_account"
      ],
      "execution_count": null,
      "outputs": []
    },
    {
      "cell_type": "code",
      "metadata": {
        "id": "FPIBIE5nA4TA"
      },
      "source": [
        "def SendOrder(symbolId, orderPrice, orderQty, bsType, priceType, timeInForce, sessionType, isFirstSell, accountType):\n",
        "    contract = __getContract(symbolId, accountType)    \n",
        "    #使用預設帳號下單\n",
        "    order = api.Order(\n",
        "                      price = orderPrice,\n",
        "                      quantity = orderQty,\n",
        "                      action = __getAction(bsType),\n",
        "                      price_type = __getPriceType(priceType),\n",
        "                      order_type = __getTimeInForce(timeInForce),                      \n",
        "                      order_lot = __getSessionType(sessionType),\n",
        "                      first_sell = isFirstSell,\n",
        "                      account = __getAccountInfo(accountType)\n",
        "                     )\n",
        "    trade = api.place_order(contract, order)\n",
        "    return trade"
      ],
      "execution_count": null,
      "outputs": []
    },
    {
      "cell_type": "code",
      "metadata": {
        "id": "eTVaMJV_A4TB",
        "outputId": "1bf9f940-6578-4cba-b49a-f759f309c7b2"
      },
      "source": [
        "SendOrder(\"2886\", 10, 1, \"Buy\", \"Limit\", \"ROD\", \"RegularTrading\", False, \"Stk\")"
      ],
      "execution_count": null,
      "outputs": [
        {
          "ename": "AttributeError",
          "evalue": "'NoneType' object has no attribute 'Stocks'",
          "output_type": "error",
          "traceback": [
            "\u001b[1;31m---------------------------------------------------------------------------\u001b[0m",
            "\u001b[1;31mAttributeError\u001b[0m                            Traceback (most recent call last)",
            "\u001b[1;32m<ipython-input-29-76b93ecba26a>\u001b[0m in \u001b[0;36m<module>\u001b[1;34m\u001b[0m\n\u001b[1;32m----> 1\u001b[1;33m \u001b[0mSendOrder\u001b[0m\u001b[1;33m(\u001b[0m\u001b[1;34m\"2886\"\u001b[0m\u001b[1;33m,\u001b[0m \u001b[1;36m10\u001b[0m\u001b[1;33m,\u001b[0m \u001b[1;36m1\u001b[0m\u001b[1;33m,\u001b[0m \u001b[1;34m\"Buy\"\u001b[0m\u001b[1;33m,\u001b[0m \u001b[1;34m\"Limit\"\u001b[0m\u001b[1;33m,\u001b[0m \u001b[1;34m\"ROD\"\u001b[0m\u001b[1;33m,\u001b[0m \u001b[1;34m\"RegularTrading\"\u001b[0m\u001b[1;33m,\u001b[0m \u001b[1;32mFalse\u001b[0m\u001b[1;33m,\u001b[0m \u001b[1;34m\"Stk\"\u001b[0m\u001b[1;33m)\u001b[0m\u001b[1;33m\u001b[0m\u001b[1;33m\u001b[0m\u001b[0m\n\u001b[0m",
            "\u001b[1;32m<ipython-input-26-b5e45ed8a3a3>\u001b[0m in \u001b[0;36mSendOrder\u001b[1;34m(symbolId, orderPrice, orderQty, bsType, priceType, timeInForce, sessionType, isFirstSell, accountType)\u001b[0m\n\u001b[0;32m      1\u001b[0m \u001b[1;32mdef\u001b[0m \u001b[0mSendOrder\u001b[0m\u001b[1;33m(\u001b[0m\u001b[0msymbolId\u001b[0m\u001b[1;33m,\u001b[0m \u001b[0morderPrice\u001b[0m\u001b[1;33m,\u001b[0m \u001b[0morderQty\u001b[0m\u001b[1;33m,\u001b[0m \u001b[0mbsType\u001b[0m\u001b[1;33m,\u001b[0m \u001b[0mpriceType\u001b[0m\u001b[1;33m,\u001b[0m \u001b[0mtimeInForce\u001b[0m\u001b[1;33m,\u001b[0m \u001b[0msessionType\u001b[0m\u001b[1;33m,\u001b[0m \u001b[0misFirstSell\u001b[0m\u001b[1;33m,\u001b[0m \u001b[0maccountType\u001b[0m\u001b[1;33m)\u001b[0m\u001b[1;33m:\u001b[0m\u001b[1;33m\u001b[0m\u001b[1;33m\u001b[0m\u001b[0m\n\u001b[1;32m----> 2\u001b[1;33m     \u001b[0mcontract\u001b[0m \u001b[1;33m=\u001b[0m \u001b[0m__getContract\u001b[0m\u001b[1;33m(\u001b[0m\u001b[0msymbolId\u001b[0m\u001b[1;33m,\u001b[0m \u001b[0maccountType\u001b[0m\u001b[1;33m)\u001b[0m\u001b[1;33m\u001b[0m\u001b[1;33m\u001b[0m\u001b[0m\n\u001b[0m\u001b[0;32m      3\u001b[0m     \u001b[1;31m#使用預設帳號下單\u001b[0m\u001b[1;33m\u001b[0m\u001b[1;33m\u001b[0m\u001b[1;33m\u001b[0m\u001b[0m\n\u001b[0;32m      4\u001b[0m     order = api.Order(\n\u001b[0;32m      5\u001b[0m                       \u001b[0mprice\u001b[0m \u001b[1;33m=\u001b[0m \u001b[0morderPrice\u001b[0m\u001b[1;33m,\u001b[0m\u001b[1;33m\u001b[0m\u001b[1;33m\u001b[0m\u001b[0m\n",
            "\u001b[1;32m<ipython-input-20-c21e9b23149c>\u001b[0m in \u001b[0;36m__getContract\u001b[1;34m(symbolId, accountType)\u001b[0m\n\u001b[0;32m      2\u001b[0m \u001b[1;32mdef\u001b[0m \u001b[0m__getContract\u001b[0m\u001b[1;33m(\u001b[0m\u001b[0msymbolId\u001b[0m\u001b[1;33m,\u001b[0m \u001b[0maccountType\u001b[0m\u001b[1;33m)\u001b[0m\u001b[1;33m:\u001b[0m\u001b[1;33m\u001b[0m\u001b[1;33m\u001b[0m\u001b[0m\n\u001b[0;32m      3\u001b[0m     \u001b[1;32mif\u001b[0m \u001b[0maccountType\u001b[0m \u001b[1;33m==\u001b[0m \u001b[1;34m\"Stk\"\u001b[0m\u001b[1;33m:\u001b[0m\u001b[1;33m\u001b[0m\u001b[1;33m\u001b[0m\u001b[0m\n\u001b[1;32m----> 4\u001b[1;33m         \u001b[1;32mreturn\u001b[0m \u001b[0mapi\u001b[0m\u001b[1;33m.\u001b[0m\u001b[0mContracts\u001b[0m\u001b[1;33m.\u001b[0m\u001b[0mStocks\u001b[0m\u001b[1;33m[\u001b[0m\u001b[0msymbolId\u001b[0m\u001b[1;33m]\u001b[0m\u001b[1;33m\u001b[0m\u001b[1;33m\u001b[0m\u001b[0m\n\u001b[0m\u001b[0;32m      5\u001b[0m     \u001b[1;32melif\u001b[0m \u001b[0maccountType\u001b[0m \u001b[1;33m==\u001b[0m \u001b[1;34m\"Fut\"\u001b[0m\u001b[1;33m:\u001b[0m\u001b[1;33m\u001b[0m\u001b[1;33m\u001b[0m\u001b[0m\n\u001b[0;32m      6\u001b[0m         \u001b[1;32mreturn\u001b[0m \u001b[0mapi\u001b[0m\u001b[1;33m.\u001b[0m\u001b[0mContracts\u001b[0m\u001b[1;33m.\u001b[0m\u001b[0mFutures\u001b[0m\u001b[1;33m[\u001b[0m\u001b[0msymbolId\u001b[0m\u001b[1;33m]\u001b[0m\u001b[1;33m\u001b[0m\u001b[1;33m\u001b[0m\u001b[0m\n",
            "\u001b[1;31mAttributeError\u001b[0m: 'NoneType' object has no attribute 'Stocks'"
          ]
        }
      ]
    },
    {
      "cell_type": "code",
      "metadata": {
        "id": "-XgGFSMSA4TC"
      },
      "source": [
        "#取得買賣類型\n",
        "def __getAction(bsType):\n",
        "    if bsType == \"Buy\":\n",
        "        return sj.constant.Action.Buy\n",
        "    elif bsType == \"Sell\":\n",
        "        return sj.constant.Action.Sell\n",
        "    else:\n",
        "        raise Exception(\"Not correct Action: \" + bsType + \", only can input {Buy: 買, Sell: 賣}\")"
      ],
      "execution_count": null,
      "outputs": []
    },
    {
      "cell_type": "code",
      "metadata": {
        "id": "4kKNsFJ7A4TC",
        "outputId": "c484ecfe-6993-4785-ac49-288295b06da2"
      },
      "source": [
        "GetAction(\"\")"
      ],
      "execution_count": null,
      "outputs": [
        {
          "ename": "Exception",
          "evalue": "Not correct Action: , only can input {B: 買, S: 賣}",
          "output_type": "error",
          "traceback": [
            "\u001b[1;31m---------------------------------------------------------------------------\u001b[0m",
            "\u001b[1;31mException\u001b[0m                                 Traceback (most recent call last)",
            "\u001b[1;32m<ipython-input-46-fa40dd0c8c1b>\u001b[0m in \u001b[0;36m<module>\u001b[1;34m\u001b[0m\n\u001b[1;32m----> 1\u001b[1;33m \u001b[0mGetAction\u001b[0m\u001b[1;33m(\u001b[0m\u001b[1;34m\"\"\u001b[0m\u001b[1;33m)\u001b[0m\u001b[1;33m\u001b[0m\u001b[1;33m\u001b[0m\u001b[0m\n\u001b[0m",
            "\u001b[1;32m<ipython-input-45-29d56a57b796>\u001b[0m in \u001b[0;36mGetAction\u001b[1;34m(bsType)\u001b[0m\n\u001b[0;32m      5\u001b[0m         \u001b[1;32mreturn\u001b[0m \u001b[0msj\u001b[0m\u001b[1;33m.\u001b[0m\u001b[0mconstant\u001b[0m\u001b[1;33m.\u001b[0m\u001b[0mAction\u001b[0m\u001b[1;33m.\u001b[0m\u001b[0mSell\u001b[0m\u001b[1;33m\u001b[0m\u001b[1;33m\u001b[0m\u001b[0m\n\u001b[0;32m      6\u001b[0m     \u001b[1;32melse\u001b[0m\u001b[1;33m:\u001b[0m\u001b[1;33m\u001b[0m\u001b[1;33m\u001b[0m\u001b[0m\n\u001b[1;32m----> 7\u001b[1;33m         \u001b[1;32mraise\u001b[0m \u001b[0mException\u001b[0m\u001b[1;33m(\u001b[0m\u001b[1;34m\"Not correct Action: \"\u001b[0m \u001b[1;33m+\u001b[0m \u001b[0mbsType\u001b[0m \u001b[1;33m+\u001b[0m \u001b[1;34m\", only can input {B: 買, S: 賣}\"\u001b[0m\u001b[1;33m)\u001b[0m\u001b[1;33m\u001b[0m\u001b[1;33m\u001b[0m\u001b[0m\n\u001b[0m",
            "\u001b[1;31mException\u001b[0m: Not correct Action: , only can input {B: 買, S: 賣}"
          ]
        }
      ]
    },
    {
      "cell_type": "code",
      "metadata": {
        "id": "3PYfJllyA4TD"
      },
      "source": [
        "#取得價格類型\n",
        "def __getPriceType(priceType):\n",
        "    if priceType == \"Limit\": #限價\n",
        "        return sj.constant.StockPriceType.LMT\n",
        "    elif priceType == \"Market\": #市價\n",
        "        return sj.constant.StockPriceType.MKT\n",
        "    elif priceType == \"RangeMarket\": #範圍市價\n",
        "        return sj.constant.StockPriceType.MKP\n",
        "    else:\n",
        "        raise Exception(\"Not correct StockPriceType: \" + priceType + \n",
        "                        \", only can input {Limit: 限價, Market: 市價, RangeMarket: 範圍市價}\")"
      ],
      "execution_count": null,
      "outputs": []
    },
    {
      "cell_type": "code",
      "metadata": {
        "id": "4q-Jy3h4A4TE",
        "outputId": "13740021-e472-4f98-9765-624f57877f50"
      },
      "source": [
        "GetPriceType(\"LM12T\")"
      ],
      "execution_count": null,
      "outputs": [
        {
          "ename": "Exception",
          "evalue": "Not correct StockPriceType: LM12T, only can input {LMT: 限價, MKT: 市價, MKP: 範圍市價}",
          "output_type": "error",
          "traceback": [
            "\u001b[1;31m---------------------------------------------------------------------------\u001b[0m",
            "\u001b[1;31mException\u001b[0m                                 Traceback (most recent call last)",
            "\u001b[1;32m<ipython-input-48-8abc0c22af75>\u001b[0m in \u001b[0;36m<module>\u001b[1;34m\u001b[0m\n\u001b[1;32m----> 1\u001b[1;33m \u001b[0mGetPriceType\u001b[0m\u001b[1;33m(\u001b[0m\u001b[1;34m\"LM12T\"\u001b[0m\u001b[1;33m)\u001b[0m\u001b[1;33m\u001b[0m\u001b[1;33m\u001b[0m\u001b[0m\n\u001b[0m",
            "\u001b[1;32m<ipython-input-47-754cf761edcf>\u001b[0m in \u001b[0;36mGetPriceType\u001b[1;34m(priceType)\u001b[0m\n\u001b[0;32m      7\u001b[0m         \u001b[1;32mreturn\u001b[0m \u001b[0msj\u001b[0m\u001b[1;33m.\u001b[0m\u001b[0mconstant\u001b[0m\u001b[1;33m.\u001b[0m\u001b[0mStockPriceType\u001b[0m\u001b[1;33m.\u001b[0m\u001b[0mMKP\u001b[0m\u001b[1;33m\u001b[0m\u001b[1;33m\u001b[0m\u001b[0m\n\u001b[0;32m      8\u001b[0m     \u001b[1;32melse\u001b[0m\u001b[1;33m:\u001b[0m\u001b[1;33m\u001b[0m\u001b[1;33m\u001b[0m\u001b[0m\n\u001b[1;32m----> 9\u001b[1;33m         raise Exception(\"Not correct StockPriceType: \" + priceType + \n\u001b[0m\u001b[0;32m     10\u001b[0m                         \", only can input {LMT: 限價, MKT: 市價, MKP: 範圍市價}\")\n",
            "\u001b[1;31mException\u001b[0m: Not correct StockPriceType: LM12T, only can input {LMT: 限價, MKT: 市價, MKP: 範圍市價}"
          ]
        }
      ]
    },
    {
      "cell_type": "code",
      "metadata": {
        "id": "wUQ9s1tEA4TE"
      },
      "source": [
        "#取得委託單時效性\n",
        "def __getTimeInForce(timeInForce):\n",
        "    if timeInForce == \"ROD\":\n",
        "        return sj.constant.TFTOrderType.ROD\n",
        "    elif timeInForce == \"IOC\":\n",
        "        return sj.constant.TFTOrderType.IOC\n",
        "    elif timeInForce == \"FOK\":\n",
        "        return sj.constant.TFTOrderType.FOK\n",
        "    else:\n",
        "        raise Exception(\"Not correct TimeInForce: \" + timeInForce +\n",
        "                        \", only can input {ROD, IOC, FOK}\")"
      ],
      "execution_count": null,
      "outputs": []
    },
    {
      "cell_type": "code",
      "metadata": {
        "id": "Z11Pi_T0A4TF",
        "outputId": "a169ef40-1651-4297-d50f-ca6c115a29fd"
      },
      "source": [
        "GetTimeInForce(\"FOK\")"
      ],
      "execution_count": null,
      "outputs": [
        {
          "data": {
            "text/plain": [
              "<TFTOrderType.FOK: 'FOK'>"
            ]
          },
          "execution_count": 8,
          "metadata": {},
          "output_type": "execute_result"
        }
      ]
    },
    {
      "cell_type": "code",
      "metadata": {
        "id": "zqhUk-n_A4TF"
      },
      "source": [
        "#取得委託單盤別\n",
        "def __getSessionType(sessionType):\n",
        "    if sessionType == \"RegularTrading\":\n",
        "        return sj.constant.TFTStockOrderLot.Common\n",
        "    elif sessionType == \"AfterHoursTrading\":\n",
        "        return sj.constant.TFTStockOrderLot.Fixing\n",
        "    elif sessionType == \"OddLot\":\n",
        "        return sj.constant.TFTStockOrderLot.Odd\n",
        "    elif sessionType == \"OddLotAtSession\":\n",
        "        return sj.constant.TFTStockOrderLot.IntradayOdd\n",
        "    else:\n",
        "        raise Exception(\"Not correct SessionType: \" + sessionType +\n",
        "                        \", only can input {RegularTrading: 整股, \" +\n",
        "                                          \"AfterHoursTrading: 定盤, \" +\n",
        "                                          \"OddLot: 盤後零股, \" + \n",
        "                                          \"OddLotAtSession: 盤中零股}\")"
      ],
      "execution_count": null,
      "outputs": []
    },
    {
      "cell_type": "code",
      "metadata": {
        "id": "iHJ2F-dHA4TG"
      },
      "source": [
        "#取得帳戶資訊\n",
        "def __getAccountInfo(accountType):\n",
        "    if accountType == \"Stk\":\n",
        "        return api.stock_account\n",
        "    elif accountType == \"Fut\":\n",
        "        return api.futopt_account\n",
        "    else:\n",
        "        raise Exception(\"Not correct AccountType: \" + accountType +\n",
        "                        \"only can input {Stk: 取得API預設現貨帳戶資料, Fut: 取得API預設期貨帳戶資料}\")"
      ],
      "execution_count": null,
      "outputs": []
    },
    {
      "cell_type": "code",
      "metadata": {
        "id": "nLL0ND_2A4TG"
      },
      "source": [
        "#依帳戶類別取得商品合約，帳戶有股票和期貨，以此為依據去取得Shioaji資料庫中Contracts.Stocks或Contracts.Futures的合約資料結構\n",
        "def __getContract(symbolId, accountType):\n",
        "    if accountType == \"Stk\":\n",
        "        return api.Contracts.Stocks[symbolId]\n",
        "    elif accountType == \"Fut\":\n",
        "        return api.Contracts.Futures[symbolId]\n",
        "    else:\n",
        "        raise Exception(\"Not correct AccountType:\" + accountType + \", and then cause cannot catch contract\")"
      ],
      "execution_count": null,
      "outputs": []
    },
    {
      "cell_type": "code",
      "metadata": {
        "id": "ZTCf7mgTA4TG"
      },
      "source": [
        "#登出\n",
        "def Logout():\n",
        "    api.logout()"
      ],
      "execution_count": null,
      "outputs": []
    },
    {
      "cell_type": "code",
      "metadata": {
        "id": "pAd_Pdu3A4TH"
      },
      "source": [
        ""
      ],
      "execution_count": null,
      "outputs": []
    }
  ]
}