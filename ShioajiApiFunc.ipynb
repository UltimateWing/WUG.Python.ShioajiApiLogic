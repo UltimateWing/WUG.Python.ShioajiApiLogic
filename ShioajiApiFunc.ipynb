{
  "nbformat": 4,
  "nbformat_minor": 0,
  "metadata": {
    "kernelspec": {
      "display_name": "Python 3",
      "language": "python",
      "name": "python3"
    },
    "language_info": {
      "codemirror_mode": {
        "name": "ipython",
        "version": 3
      },
      "file_extension": ".py",
      "mimetype": "text/x-python",
      "name": "python",
      "nbconvert_exporter": "python",
      "pygments_lexer": "ipython3",
      "version": "3.8.5"
    },
    "colab": {
      "name": "ShioajiApiFunc.ipynb",
      "provenance": [],
      "include_colab_link": true
    }
  },
  "cells": [
    {
      "cell_type": "markdown",
      "metadata": {
        "id": "view-in-github",
        "colab_type": "text"
      },
      "source": [
        "<a href=\"https://colab.research.google.com/github/UltimateWing/WUG.Python.ShioajiApiLogic/blob/main/ShioajiApiFunc.ipynb\" target=\"_parent\"><img src=\"https://colab.research.google.com/assets/colab-badge.svg\" alt=\"Open In Colab\"/></a>"
      ]
    },
    {
      "cell_type": "code",
      "metadata": {
        "id": "9y4yK_Y2Cauk"
      },
      "source": [
        "pip install shioaji"
      ],
      "execution_count": null,
      "outputs": []
    },
    {
      "cell_type": "code",
      "metadata": {
        "id": "mTNJeQTFdoFG"
      },
      "source": [
        "import os"
      ],
      "execution_count": 54,
      "outputs": []
    },
    {
      "cell_type": "code",
      "metadata": {
        "id": "vGjCjfWYeTeO",
        "colab": {
          "base_uri": "https://localhost:8080/"
        },
        "outputId": "882079ff-41bb-45a7-f987-5d846e0b77ba"
      },
      "source": [
        "file = 'login.ini'\n",
        "txtDict = {}\n",
        "if os.path.isfile(file):\n",
        "  print('Can get!!')\n",
        "  with open(file, 'r') as f:\n",
        "    t = f.read()\n",
        "    onelinelist = t.split('\\n')\n",
        "    for i in onelinelist:\n",
        "      kv = i.split(':')\n",
        "      txtDict[kv[0]]=kv[1]\n",
        "else:\n",
        "  print('Can not get...')\n",
        "\n",
        "for key in txtDict:\n",
        "  #print('key=',key,',value=',txtDict[key])\n",
        "  print('key=',key)"
      ],
      "execution_count": 55,
      "outputs": [
        {
          "output_type": "stream",
          "name": "stdout",
          "text": [
            "Can get!!\n",
            "key= acc\n",
            "key= pwd\n",
            "key= caPath\n",
            "key= caPwd\n"
          ]
        }
      ]
    },
    {
      "cell_type": "code",
      "metadata": {
        "id": "7FpLPWEnA4S5"
      },
      "source": [
        "import shioaji as sj"
      ],
      "execution_count": 56,
      "outputs": []
    },
    {
      "cell_type": "code",
      "metadata": {
        "id": "VjWu5JQ_CsF1"
      },
      "source": [
        "class ShiojiApiLogic():\n",
        "  #建構式\n",
        "  def __init__(self, isSimulation: bool = True):\n",
        "    self.IsSimulation = isSimulation\n",
        "    if isSimulation:\n",
        "      self.Api = sj.Shioaji(simulation = True)\n",
        "    else:\n",
        "      self.Api = sj.Shioaji()\n",
        "      self.LoginId = \"\"\n",
        "      self.IsConnected = False\n",
        "      self.AccountList = []\n",
        "      self.ReplyDict = {}\n",
        "    \n",
        "  #模擬環境初始化\n",
        "  def InitSimulation(self, virtualIdNum: int = 1):\n",
        "    virtualId = \"PAPIUSER0\" + str(virtualIdNum)\n",
        "    pwd = \"2222\"\n",
        "    self.Init(virtualId, pwd)\n",
        "\n",
        "  #正式環境初始化\n",
        "  def Init(self, loginId: str, loginPwd: str, caPath: str = \"\", caPwd: str = \"\"):\n",
        "    self.Api.login(\n",
        "        person_id = loginId,\n",
        "        passwd = loginPwd,\n",
        "        contracts_cb = lambda security_type: print(f\"{repr(security_type)} fetch done.\")\n",
        "        )\n",
        "    self.AccountList = self.Api.list_accounts()\n",
        "    #註冊回報事件\n",
        "    self.Api.set_order_callback(self.__placeCallback)    \n",
        "    if self.IsSimulation == False:\n",
        "      result = self.Api.activate_ca(\n",
        "          ca_path = caPath,\n",
        "          ca_passwd = caPwd,\n",
        "          person_id = loginId\n",
        "          )\n",
        "      \n",
        "  #委託下單\n",
        "  def SendOrder(\n",
        "      self, symbolId: str, orderPrice: float, orderQty: int, \n",
        "      bsType: str, priceType: str, timeInForce: str,\n",
        "      sessionType: str, isFirstSell: bool, accountType: str):\n",
        "    #註冊回報事件\n",
        "    #self.Api.set_order_callback(self.__placeCallback)\n",
        "    contract = self.__getContract(symbolId, accountType)    \n",
        "    #使用預設帳號下單\n",
        "    order = self.Api.Order(\n",
        "        price = orderPrice,\n",
        "        quantity = orderQty,\n",
        "        action = self.__getAction(bsType),\n",
        "        price_type = self.__getPriceType(priceType),\n",
        "        order_type = self.__getTimeInForce(timeInForce),                      \n",
        "        order_lot = self.__getSessionType(sessionType),\n",
        "        first_sell = self.__getFirstSellType(isFirstSell),\n",
        "        account = self.__getAccountInfo(accountType)\n",
        "        )\n",
        "    trade = self.Api.place_order(contract, order)\n",
        "    return trade\n",
        "    \n",
        "  #def CancelOrder(self, orderNo: str)\n",
        "    \n",
        "    \n",
        "  #登出\n",
        "  def Logout(self):\n",
        "    self.Api.logout()\n",
        "    \n",
        "    \n",
        "  #Private Method\n",
        "    \n",
        "  #取得買賣類型\n",
        "  def __getAction(self, bsType: str):\n",
        "    if bsType == \"Buy\":\n",
        "      return sj.constant.Action.Buy\n",
        "    elif bsType == \"Sell\":\n",
        "      return sj.constant.Action.Sell\n",
        "    else:\n",
        "      raise Exception(\n",
        "          \"Not correct Action: \" + bsType + \n",
        "          \", only can input {Buy: 買, Sell: 賣}\"\n",
        "          )\n",
        "            \n",
        "  #取得價格類型\n",
        "  def __getPriceType(self, priceType: str):\n",
        "    if priceType == \"Limit\": #限價\n",
        "      return sj.constant.StockPriceType.LMT\n",
        "    elif priceType == \"Market\": #市價\n",
        "      return sj.constant.StockPriceType.MKT\n",
        "    elif priceType == \"RangeMarket\": #範圍市價\n",
        "      return sj.constant.StockPriceType.MKP\n",
        "    else:\n",
        "      raise Exception(\n",
        "          \"Not correct StockPriceType: \" + priceType + \n",
        "          \", only can input {Limit: 限價, Market: 市價, RangeMarket: 範圍市價}\")\n",
        "\n",
        "  #取得委託單時效性\n",
        "  def __getTimeInForce(self, timeInForce: str):\n",
        "    if timeInForce == \"ROD\":\n",
        "      return sj.constant.TFTOrderType.ROD\n",
        "    elif timeInForce == \"IOC\":\n",
        "      return sj.constant.TFTOrderType.IOC\n",
        "    elif timeInForce == \"FOK\":\n",
        "      return sj.constant.TFTOrderType.FOK\n",
        "    else:\n",
        "      raise Exception(\n",
        "          \"Not correct TimeInForce: \" + timeInForce +\n",
        "          \", only can input {ROD, IOC, FOK}\")\n",
        "            \n",
        "  #取得委託單盤別\n",
        "  def __getSessionType(self, sessionType: str):\n",
        "    if sessionType == \"RegularTrading\":\n",
        "      return sj.constant.TFTStockOrderLot.Common\n",
        "    elif sessionType == \"AfterHoursTrading\":\n",
        "      return sj.constant.TFTStockOrderLot.Fixing\n",
        "    elif sessionType == \"OddLot\":\n",
        "      return sj.constant.TFTStockOrderLot.Odd\n",
        "    elif sessionType == \"OddLotAtSession\":\n",
        "      return sj.constant.TFTStockOrderLot.IntradayOdd\n",
        "    else:\n",
        "      raise Exception(\n",
        "          \"Not correct SessionType: \" + sessionType +\n",
        "          \", only can input {RegularTrading: 整股, \" +\n",
        "                     \"AfterHoursTrading: 定盤, \" +\n",
        "                     \"OddLot: 盤後零股, \" + \n",
        "                     \"OddLotAtSession: 盤中零股}\"\n",
        "          )\n",
        "\n",
        "  def __getFirstSellType(self, isFirstSell: bool):\n",
        "    if isFirstSell:\n",
        "      return \"true\"\n",
        "    else:\n",
        "      return \"false\"\n",
        "\n",
        "  #取得帳號資訊  \n",
        "  def __getAccountInfo(self, accountType):\n",
        "    if accountType == \"Stk\":\n",
        "      return self.Api.stock_account\n",
        "    elif accountType == \"Fut\":\n",
        "      return self.Api.futopt_account\n",
        "    else:\n",
        "      raise Exception(\n",
        "          \"Not correct AccountType: \" + accountType +\n",
        "          \", only can input {Stk: 現貨帳戶資訊, Fut: 期貨帳戶資訊}\"\n",
        "      )\n",
        "\n",
        "  #依帳戶類別取得商品合約，帳戶有股票和期貨，\n",
        "  #以此為依據去取得Shioaji資料庫中Contracts.Stocks或Contracts.Futures的合約資料結構\n",
        "  def __getContract(self, symbolId: str, accountType: str):\n",
        "    if accountType == \"Stk\":\n",
        "      return self.Api.Contracts.Stocks[symbolId]\n",
        "    elif accountType == \"Fut\":\n",
        "      return self.Api.Contracts.Futures[symbolId]\n",
        "    else:\n",
        "      raise Exception(\n",
        "          \"Not correct AccountType:\" + accountType + \n",
        "          \", and then cause cannot catch contract. \" +\n",
        "          \"Only can input {Stk: 現貨帳戶資訊, Fut: 期貨帳戶資訊}\")\n",
        "    \n",
        "  #Event\n",
        "    \n",
        "  #接收委託回報\n",
        "  def __placeCallback(self, stat, msg):\n",
        "    print('my_place_callback')\n",
        "    print('stat=', stat)\n",
        "    print('----------')\n",
        "    print('msg=',msg)        \n",
        "    #if msg['order']['id']"
      ],
      "execution_count": 77,
      "outputs": []
    },
    {
      "cell_type": "code",
      "metadata": {
        "id": "OyMQSO9dhlze",
        "colab": {
          "base_uri": "https://localhost:8080/"
        },
        "outputId": "db46003b-f280-418b-e5b2-a9d200661c44"
      },
      "source": [
        "#正式登入\n",
        "Api = ShiojiApiLogic(isSimulation=False)\n",
        "Api.Init(txtDict['acc'], txtDict['pwd'], txtDict['caPath'], txtDict['caPwd'])"
      ],
      "execution_count": null,
      "outputs": [
        {
          "output_type": "stream",
          "name": "stdout",
          "text": [
            "Response Code: 0 | Event Code: 0 | Info: host '203.66.91.161:80', IP 203.66.91.161:80 (host 1 of 1) (host connection attempt 1 of 1) (total connection attempt 1 of 1) | Event: Session up\n",
            "<SecurityType.Index: 'IND'> fetch done.\n",
            "<SecurityType.Future: 'FUT'> fetch done.\n"
          ]
        }
      ]
    },
    {
      "cell_type": "code",
      "metadata": {
        "colab": {
          "base_uri": "https://localhost:8080/"
        },
        "id": "4UWuucx2H0O_",
        "outputId": "c485d565-af98-4466-bd8e-2055728a94eb"
      },
      "source": [
        "#測試執行\n",
        "Api = ShiojiApiLogic(isSimulation=True)\n",
        "Api.InitSimulation(1)"
      ],
      "execution_count": 72,
      "outputs": [
        {
          "output_type": "stream",
          "name": "stdout",
          "text": [
            "Response Code: 0 | Event Code: 0 | Info: host '218.32.76.102:80', IP 218.32.76.102:80 (host 1 of 1) (host connection attempt 1 of 1) (total connection attempt 1 of 1) | Event: Session up\n",
            "<SecurityType.Index: 'IND'> fetch done.\n"
          ]
        }
      ]
    },
    {
      "cell_type": "code",
      "metadata": {
        "colab": {
          "base_uri": "https://localhost:8080/"
        },
        "id": "8BmH6PvtIdzv",
        "outputId": "efeba0ed-29d4-4abb-a46a-74b8a72e7b29"
      },
      "source": [
        "Api.AccountList"
      ],
      "execution_count": 73,
      "outputs": [
        {
          "output_type": "execute_result",
          "data": {
            "text/plain": [
              "[FutureAccount(person_id='QBCCAIGJBJ', broker_id='F002000', account_id='9100020', signed=True, username='PAPIUSER01'),\n",
              " StockAccount(person_id='QBCCAIGJBJ', broker_id='9A95', account_id='0504350', signed=True, username='PAPIUSER01')]"
            ]
          },
          "metadata": {},
          "execution_count": 73
        }
      ]
    },
    {
      "cell_type": "code",
      "metadata": {
        "id": "jL4fxKAMA4S9"
      },
      "source": [
        "trade = Api.SendOrder(\"2886\", 30, 1, \"Buy\", \"Limit\", \"ROD\", \"RegularTrading\", False, \"Stk\")"
      ],
      "execution_count": 76,
      "outputs": []
    },
    {
      "cell_type": "code",
      "metadata": {
        "id": "qHnvhF26Kr5T"
      },
      "source": [
        "Api.Logout()"
      ],
      "execution_count": 70,
      "outputs": []
    }
  ]
}